{
 "cells": [
  {
   "cell_type": "markdown",
   "id": "1242d2e2-7f6e-409a-9f79-9aea699e995d",
   "metadata": {},
   "source": [
    "<h1>Face Mesh Module</h1>"
   ]
  },
  {
   "cell_type": "markdown",
   "id": "3aecb38a-adce-4b60-8fa5-62922079598c",
   "metadata": {},
   "source": [
    "<h3>Importing libraries for face mesh</h3>"
   ]
  },
  {
   "cell_type": "code",
   "execution_count": 1,
   "id": "5a1f7424-8ea6-4680-8750-e09872539c3d",
   "metadata": {},
   "outputs": [
    {
     "name": "stderr",
     "output_type": "stream",
     "text": [
      "c:\\Users\\Agha Kocholo\\AppData\\Local\\Programs\\Python\\Python311\\Lib\\site-packages\\scipy\\__init__.py:169: UserWarning: A NumPy version >=1.18.5 and <1.26.0 is required for this version of SciPy (detected version 1.26.1\n",
      "  warnings.warn(f\"A NumPy version >={np_minversion} and <{np_maxversion}\"\n"
     ]
    }
   ],
   "source": [
    "import mediapipe as mp # mediapipe is good for drawing face mesh\n",
    "import cv2 \n",
    "import time # for drame p"
   ]
  },
  {
   "cell_type": "markdown",
   "id": "814ffe19-6829-4b67-a12b-41acd001d00e",
   "metadata": {},
   "source": [
    "<h2>Creating Face Mesh Module</h2>"
   ]
  },
  {
   "cell_type": "markdown",
   "id": "60f5609a-4ebe-4fb2-822f-ec1721f7d2dc",
   "metadata": {},
   "source": [
    "<h3>initializing face mesh class</h3>"
   ]
  },
  {
   "cell_type": "code",
   "execution_count": 2,
   "id": "1ce9d4f1-c2d2-4211-af93-fda3b7f7208a",
   "metadata": {},
   "outputs": [],
   "source": [
    "class FaceMeshDetector():\n",
    "    def __init__(self,static_image_mode=False, max_num_faces=1, refine_landmarks=False, \n",
    "                min_detection_confidence=0.5, min_tracking_confidence=0.5):\n",
    "        self.static_image_mode = static_image_mode\n",
    "        self.max_num_faces = max_num_faces\n",
    "        self.refine_landmarks = refine_landmarks\n",
    "        self.min_detection_confidence = min_detection_confidence\n",
    "        self.min_tracking_confidence = min_tracking_confidence\n",
    "        self.mpDraw = mp.solutions.drawing_utils \n",
    "        self.mpFaceMesh = mp.solutions.face_mesh\n",
    "        self.faceMesh = self.mpFaceMesh.FaceMesh(static_image_mode=self.static_image_mode,max_num_faces=self.max_num_faces,\n",
    "                                                  refine_landmarks=self.refine_landmarks,min_detection_confidence=self.min_detection_confidence,\n",
    "                                                  min_tracking_confidence=self.min_tracking_confidence)\n",
    "        self.drawSpec = self.mpDraw.DrawingSpec(thickness=1, circle_radius=1)\n",
    "    def findFaceMesh(self, img, draw=True):\n",
    "        self.imgRGB = cv2.cvtColor(img, cv2.COLOR_BGR2RGB) # mediapipe did not acsept BGR input\n",
    "        self.result = self.faceMesh.process(self.imgRGB)   # processing input \n",
    "        if self.result.multi_face_landmarks:\n",
    "          for faceLms in self.result.multi_face_landmarks:\n",
    "            self.mpDraw.draw_landmarks(image=img, landmark_list=faceLms, connections=self.mpFaceMesh.FACEMESH_TESSELATION,\n",
    "                                  landmark_drawing_spec=self.drawSpec, connection_drawing_spec=self.drawSpec) # drawing landmark for each point in face\n",
    "        return img  "
   ]
  },
  {
   "cell_type": "markdown",
   "id": "9a1ad119-d1d3-4fa6-918f-9c1f64f78f67",
   "metadata": {},
   "source": [
    "<h3>Main Function to Call the Module</h3>"
   ]
  },
  {
   "cell_type": "code",
   "execution_count": 3,
   "id": "4b280a5c-1464-45bc-beb1-1441dee36646",
   "metadata": {},
   "outputs": [],
   "source": [
    "def main():\n",
    "    cap = cv2.VideoCapture(0) # taking input from webcam\n",
    "    pTime = 0\n",
    "    detector = FaceMeshDetector() # face mesh class\n",
    "    while True:\n",
    "        success, img = cap.read()\n",
    "        img = cv2.flip(img, 1)\n",
    "        img = detector.findFaceMesh(img)\n",
    "        cTime =time.time() # correct time\n",
    "        fps = 1/(cTime-pTime) # frame per scond\n",
    "        pTime = cTime # Previous time\n",
    "        cv2.putText(img, f'FBS:{str(int(fps))}', (15,80), cv2.FONT_HERSHEY_COMPLEX,\n",
    "                    3, (15,255,10), 1) # add fps to output by cv2.putText\n",
    "        cv2.imshow(\"img\",img)\n",
    "        if cv2.waitKey(1) == ord(\"q\"):\n",
    "            break\n",
    "\n",
    "if __name__ == \"__main__\":\n",
    "    main()   \n"
   ]
  },
  {
   "cell_type": "code",
   "execution_count": null,
   "id": "bf629b19-4a14-4b45-832b-b3538898f6d7",
   "metadata": {},
   "outputs": [],
   "source": []
  },
  {
   "cell_type": "code",
   "execution_count": null,
   "id": "bda4a7b9-e1b5-488e-b23b-5cf3f7e6d811",
   "metadata": {},
   "outputs": [],
   "source": []
  },
  {
   "cell_type": "code",
   "execution_count": null,
   "id": "3dbfde00-3bb5-482d-97e4-650309cdcef9",
   "metadata": {},
   "outputs": [],
   "source": []
  },
  {
   "cell_type": "code",
   "execution_count": null,
   "id": "0daaefcf-3b48-4a9c-98ec-61bc8ec573a1",
   "metadata": {},
   "outputs": [],
   "source": []
  },
  {
   "cell_type": "code",
   "execution_count": null,
   "id": "6d727241-7504-4250-a07f-bcef224349aa",
   "metadata": {},
   "outputs": [],
   "source": []
  },
  {
   "cell_type": "code",
   "execution_count": null,
   "id": "07176ada-1bd6-4dab-a776-4bb4acff3e15",
   "metadata": {},
   "outputs": [],
   "source": []
  },
  {
   "cell_type": "code",
   "execution_count": null,
   "id": "625c5240-982e-4305-8e92-0fafac9ea3a2",
   "metadata": {},
   "outputs": [],
   "source": []
  },
  {
   "cell_type": "code",
   "execution_count": null,
   "id": "103e4a66-8618-444b-8a0a-8abb524198d0",
   "metadata": {},
   "outputs": [],
   "source": []
  },
  {
   "cell_type": "code",
   "execution_count": null,
   "id": "5f1912bf-151f-427d-b832-6edfd1adfe8d",
   "metadata": {},
   "outputs": [],
   "source": []
  },
  {
   "cell_type": "code",
   "execution_count": null,
   "id": "e1e031bf-16d8-4fd9-9268-adfecc0fdb1e",
   "metadata": {},
   "outputs": [],
   "source": []
  },
  {
   "cell_type": "code",
   "execution_count": null,
   "id": "99849c17-522e-41c1-b56f-630ce4bd6b75",
   "metadata": {},
   "outputs": [],
   "source": []
  },
  {
   "cell_type": "code",
   "execution_count": null,
   "id": "bac52a6a-4666-4e8a-aae4-18fb027ad2af",
   "metadata": {},
   "outputs": [],
   "source": []
  },
  {
   "cell_type": "code",
   "execution_count": null,
   "id": "cebfcacf-4a1c-4e41-aa70-c984eb8b5f9f",
   "metadata": {},
   "outputs": [],
   "source": []
  },
  {
   "cell_type": "code",
   "execution_count": null,
   "id": "6d25e723-2e2c-469f-9a3f-fab98b4a3c1d",
   "metadata": {},
   "outputs": [],
   "source": []
  },
  {
   "cell_type": "code",
   "execution_count": null,
   "id": "416ec00b-5a1c-4b7b-9a27-871977c9c068",
   "metadata": {},
   "outputs": [],
   "source": []
  },
  {
   "cell_type": "code",
   "execution_count": null,
   "id": "93b85f21-123c-477b-979d-48d9806e3515",
   "metadata": {},
   "outputs": [],
   "source": []
  },
  {
   "cell_type": "code",
   "execution_count": null,
   "id": "3481ef92-af73-41ec-bea6-79a72611544b",
   "metadata": {},
   "outputs": [],
   "source": []
  },
  {
   "cell_type": "code",
   "execution_count": null,
   "id": "eb390c3c-a5a3-4f4d-a157-430456802c7c",
   "metadata": {},
   "outputs": [],
   "source": []
  },
  {
   "cell_type": "code",
   "execution_count": null,
   "id": "5a29b0b4-e4bb-464d-82a0-e041da0db416",
   "metadata": {},
   "outputs": [],
   "source": []
  },
  {
   "cell_type": "code",
   "execution_count": null,
   "id": "9490eaaf-e497-43a5-8c21-5a7a2943957a",
   "metadata": {},
   "outputs": [],
   "source": []
  },
  {
   "cell_type": "code",
   "execution_count": null,
   "id": "568a6d0c-f608-4cfc-b5a7-67bd19459fcd",
   "metadata": {},
   "outputs": [],
   "source": []
  },
  {
   "cell_type": "code",
   "execution_count": null,
   "id": "14064922-0adf-457c-bfe3-365ca260084f",
   "metadata": {},
   "outputs": [],
   "source": []
  }
 ],
 "metadata": {
  "kernelspec": {
   "display_name": "Python 3 (ipykernel)",
   "language": "python",
   "name": "python3"
  },
  "language_info": {
   "codemirror_mode": {
    "name": "ipython",
    "version": 3
   },
   "file_extension": ".py",
   "mimetype": "text/x-python",
   "name": "python",
   "nbconvert_exporter": "python",
   "pygments_lexer": "ipython3",
   "version": "3.11.5"
  }
 },
 "nbformat": 4,
 "nbformat_minor": 5
}
